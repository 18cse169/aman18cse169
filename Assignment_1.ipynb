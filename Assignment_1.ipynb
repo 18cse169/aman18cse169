{
  "nbformat": 4,
  "nbformat_minor": 0,
  "metadata": {
    "colab": {
      "name": "Assignment 1.ipynb",
      "provenance": [],
      "authorship_tag": "ABX9TyPoKXY6Ig2pdXZniy+IwyHo",
      "include_colab_link": true
    },
    "kernelspec": {
      "name": "python3",
      "display_name": "Python 3"
    }
  },
  "cells": [
    {
      "cell_type": "markdown",
      "metadata": {
        "id": "view-in-github",
        "colab_type": "text"
      },
      "source": [
        "<a href=\"https://colab.research.google.com/github/18cse169/aman18cse169/blob/main/Assignment_1.ipynb\" target=\"_parent\"><img src=\"https://colab.research.google.com/assets/colab-badge.svg\" alt=\"Open In Colab\"/></a>"
      ]
    },
    {
      "cell_type": "code",
      "metadata": {
        "colab": {
          "base_uri": "https://localhost:8080/"
        },
        "id": "h6zqcIjblnKC",
        "outputId": "e007fbf9-b4a1-4561-82c7-0fa19c694d11"
      },
      "source": [
        "#calculation of mean\n",
        "from collections import Counter\n",
        "data=[float(i) for i in input().split()]\n",
        "n=len(data)\n",
        "mean=sum(data)/n\n",
        "print(\"Mean = \",mean)\n",
        "#calculation of median\n",
        "temp=data.copy()\n",
        "temp=sorted(temp)\n",
        "if n%2!=0:\n",
        "  print(\"Median = \",temp[n//2])\n",
        "else:\n",
        "  median=(temp[n//2]+temp[n//2+1])/2\n",
        "  print(\"Median = \",median)\n",
        "#calculation of mode\n",
        "cnt=Counter(data)\n",
        "maxi=max(cnt.items(),key= lambda x:x[1])[1]\n",
        "print(maxi)\n",
        "mode=[]\n",
        "for each in cnt.items():\n",
        "  if each[1]==maxi:\n",
        "    mode.append(each[0])\n",
        "    print(\"each[0] = \",each[0])\n",
        "if len(mode)==n:\n",
        "  print(\"Not found\")\n",
        "else:\n",
        "  print(\"Mode = \",mode)"
      ],
      "execution_count": 3,
      "outputs": [
        {
          "output_type": "stream",
          "text": [
            "2 22 5 6 6 5 22 3 2 3 2\n",
            "Mean =  7.090909090909091\n",
            "Median =  5.0\n",
            "3\n",
            "each[0] =  2.0\n",
            "Mode =  [2.0]\n"
          ],
          "name": "stdout"
        }
      ]
    },
    {
      "cell_type": "code",
      "metadata": {
        "colab": {
          "base_uri": "https://localhost:8080/"
        },
        "id": "LnTN9ceqmJve",
        "outputId": "0ae6ad59-6c91-4bb6-bb34-d4944748b0c0"
      },
      "source": [
        "#calculation of variance\n",
        "data=[float(i) for i in input().split()]\n",
        "n=len(data)\n",
        "mean=sum(data)/n\n",
        "sum1=0\n",
        "for e in data:\n",
        "  sum1+=(e-mean)**2\n",
        "variance=sum1/n\n",
        "print('Variance = ',variance)\n",
        "#calculation of standard deviation\n",
        "std=variance**(0.5)\n",
        "print(\"Standard Deviation = \",std)"
      ],
      "execution_count": 4,
      "outputs": [
        {
          "output_type": "stream",
          "text": [
            "12 16 14 15 22 25\n",
            "Variance =  21.222222222222225\n",
            "Standard Deviation =  4.6067583203617515\n"
          ],
          "name": "stdout"
        }
      ]
    },
    {
      "cell_type": "code",
      "metadata": {
        "colab": {
          "base_uri": "https://localhost:8080/"
        },
        "id": "VfqlBRjTmU7t",
        "outputId": "8a70b0cf-6b5b-4135-8d77-0cced185c58e"
      },
      "source": [
        "#program to check a string is pallindrome or not\n",
        "s=input()\n",
        "if (s==s[::-1]):\n",
        "  print('YES')\n",
        "else:\n",
        "  print('NO')"
      ],
      "execution_count": 5,
      "outputs": [
        {
          "output_type": "stream",
          "text": [
            "AMAN\n",
            "NO\n"
          ],
          "name": "stdout"
        }
      ]
    },
    {
      "cell_type": "code",
      "metadata": {
        "colab": {
          "base_uri": "https://localhost:8080/"
        },
        "id": "ygKqzYgHmd4T",
        "outputId": "bd00e1af-094a-4be2-b0e2-a952f5cd45c6"
      },
      "source": [
        "#program to check a string is pallindrome or not\n",
        "s=input()\n",
        "if (s==s[::-1]):\n",
        "  print('YES')\n",
        "else:\n",
        "  print('NO')"
      ],
      "execution_count": 6,
      "outputs": [
        {
          "output_type": "stream",
          "text": [
            "LOL\n",
            "YES\n"
          ],
          "name": "stdout"
        }
      ]
    },
    {
      "cell_type": "code",
      "metadata": {
        "colab": {
          "base_uri": "https://localhost:8080/"
        },
        "id": "_e84aq8Nml_q",
        "outputId": "7a950bed-eea3-4f7a-ddf7-7085919ed6b4"
      },
      "source": [
        "#program to find nth fibonacci number\n",
        "n=int(input())\n",
        "fibo=[0]*n\n",
        "fibo[0]=0;fibo[1]=1\n",
        "for i in range(2,n):\n",
        "  fibo[i]=fibo[i-1]+fibo[i-2]\n",
        "print(fibo[n-1])"
      ],
      "execution_count": 7,
      "outputs": [
        {
          "output_type": "stream",
          "text": [
            "6\n",
            "5\n"
          ],
          "name": "stdout"
        }
      ]
    }
  ]
}