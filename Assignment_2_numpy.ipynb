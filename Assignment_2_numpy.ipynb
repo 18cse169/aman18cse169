{
  "nbformat": 4,
  "nbformat_minor": 0,
  "metadata": {
    "colab": {
      "name": "Assignment 2 numpy.ipynb",
      "provenance": [],
      "authorship_tag": "ABX9TyM0iP2iQ2oE+WVR8E+WxyEV",
      "include_colab_link": true
    },
    "kernelspec": {
      "name": "python3",
      "display_name": "Python 3"
    }
  },
  "cells": [
    {
      "cell_type": "markdown",
      "metadata": {
        "id": "view-in-github",
        "colab_type": "text"
      },
      "source": [
        "<a href=\"https://colab.research.google.com/github/18cse169/aman18cse169/blob/main/Assignment_2_numpy.ipynb\" target=\"_parent\"><img src=\"https://colab.research.google.com/assets/colab-badge.svg\" alt=\"Open In Colab\"/></a>"
      ]
    },
    {
      "cell_type": "code",
      "metadata": {
        "id": "H1bhXTykrawa"
      },
      "source": [
        "import numpy as np"
      ],
      "execution_count": 1,
      "outputs": []
    },
    {
      "cell_type": "code",
      "metadata": {
        "colab": {
          "base_uri": "https://localhost:8080/"
        },
        "id": "GKh_IJ8qrpqN",
        "outputId": "de642692-0931-4592-f2fd-89ce237c3db3"
      },
      "source": [
        "arr=[int(i) for i in input().split()]\n",
        "arr=np.array(arr)\n",
        "arr"
      ],
      "execution_count": 2,
      "outputs": [
        {
          "output_type": "stream",
          "text": [
            "6 5 9 7 2 4\n"
          ],
          "name": "stdout"
        },
        {
          "output_type": "execute_result",
          "data": {
            "text/plain": [
              "array([6, 5, 9, 7, 2, 4])"
            ]
          },
          "metadata": {
            "tags": []
          },
          "execution_count": 2
        }
      ]
    },
    {
      "cell_type": "code",
      "metadata": {
        "colab": {
          "base_uri": "https://localhost:8080/"
        },
        "id": "SPAEOqkPrxV6",
        "outputId": "7974db54-3812-4d93-adc8-2bcd6747e025"
      },
      "source": [
        "print(np.__version__)"
      ],
      "execution_count": 3,
      "outputs": [
        {
          "output_type": "stream",
          "text": [
            "1.18.5\n"
          ],
          "name": "stdout"
        }
      ]
    },
    {
      "cell_type": "code",
      "metadata": {
        "colab": {
          "base_uri": "https://localhost:8080/"
        },
        "id": "f8QYQeYWr2Rm",
        "outputId": "c87a3199-9a64-42b6-ea1e-f09bf4961d07"
      },
      "source": [
        "print(type(arr))"
      ],
      "execution_count": 4,
      "outputs": [
        {
          "output_type": "stream",
          "text": [
            "<class 'numpy.ndarray'>\n"
          ],
          "name": "stdout"
        }
      ]
    },
    {
      "cell_type": "code",
      "metadata": {
        "colab": {
          "base_uri": "https://localhost:8080/"
        },
        "id": "lqMTvYysr6oN",
        "outputId": "2389dade-4307-4639-f2a9-4d2a28570c43"
      },
      "source": [
        "#tuple to create array\n",
        "arr=np.array((4,9,1,7))\n",
        "arr"
      ],
      "execution_count": 8,
      "outputs": [
        {
          "output_type": "execute_result",
          "data": {
            "text/plain": [
              "array([4, 9, 1, 7])"
            ]
          },
          "metadata": {
            "tags": []
          },
          "execution_count": 8
        }
      ]
    },
    {
      "cell_type": "code",
      "metadata": {
        "colab": {
          "base_uri": "https://localhost:8080/"
        },
        "id": "8EgP8Ib5r-1w",
        "outputId": "917344e5-4105-43ac-bece-c6676f678e8e"
      },
      "source": [
        "#create a 0-D array\n",
        "a=np.array(10)\n",
        "a"
      ],
      "execution_count": 6,
      "outputs": [
        {
          "output_type": "execute_result",
          "data": {
            "text/plain": [
              "array(10)"
            ]
          },
          "metadata": {
            "tags": []
          },
          "execution_count": 6
        }
      ]
    },
    {
      "cell_type": "code",
      "metadata": {
        "colab": {
          "base_uri": "https://localhost:8080/"
        },
        "id": "gBGHRiCLsQ8e",
        "outputId": "7902e567-9821-41df-f44b-138426369fab"
      },
      "source": [
        "#create a 1-D array\n",
        "a=np.array([7,4,2,6,3])\n",
        "a"
      ],
      "execution_count": 9,
      "outputs": [
        {
          "output_type": "execute_result",
          "data": {
            "text/plain": [
              "array([7, 4, 2, 6, 3])"
            ]
          },
          "metadata": {
            "tags": []
          },
          "execution_count": 9
        }
      ]
    },
    {
      "cell_type": "code",
      "metadata": {
        "colab": {
          "base_uri": "https://localhost:8080/"
        },
        "id": "NqvbQvZvsjIS",
        "outputId": "7a921ba6-f2c2-4965-98dd-ae42f458bb79"
      },
      "source": [
        "#create a 2-D array\n",
        "a=np.array([[4,5,6],[7,8,9]])\n",
        "print(a)"
      ],
      "execution_count": 10,
      "outputs": [
        {
          "output_type": "stream",
          "text": [
            "[[4 5 6]\n",
            " [7 8 9]]\n"
          ],
          "name": "stdout"
        }
      ]
    },
    {
      "cell_type": "code",
      "metadata": {
        "colab": {
          "base_uri": "https://localhost:8080/"
        },
        "id": "EMFBJVyysubF",
        "outputId": "5849ec22-c2ec-4d2d-be9b-42ad51ea3000"
      },
      "source": [
        "#create a 3-D array\n",
        "arr= np.array([[[1, 2, 3], [4, 5, 6]], [[1, 2, 3], [4, 5, 6]]])\n",
        "print(arr)"
      ],
      "execution_count": 11,
      "outputs": [
        {
          "output_type": "stream",
          "text": [
            "[[[1 2 3]\n",
            "  [4 5 6]]\n",
            "\n",
            " [[1 2 3]\n",
            "  [4 5 6]]]\n"
          ],
          "name": "stdout"
        }
      ]
    },
    {
      "cell_type": "code",
      "metadata": {
        "colab": {
          "base_uri": "https://localhost:8080/"
        },
        "id": "AOROh74zszSD",
        "outputId": "0413d9e6-64fb-4aff-bc1d-7ea99dfedc32"
      },
      "source": [
        "a=np.array(10)\n",
        "b=np.array([1,2,3,4,5])\n",
        "c=np.array([[1, 2, 3], [4, 5, 6]])\n",
        "d=np.array([[[1, 2, 3], [4, 5, 6]], [[1, 2, 3], [4, 5, 6]]])\n",
        "print(a.ndim)\n",
        "print(b.ndim)\n",
        "print(c.ndim)\n",
        "print(d.ndim)"
      ],
      "execution_count": 12,
      "outputs": [
        {
          "output_type": "stream",
          "text": [
            "0\n",
            "1\n",
            "2\n",
            "3\n"
          ],
          "name": "stdout"
        }
      ]
    },
    {
      "cell_type": "code",
      "metadata": {
        "colab": {
          "base_uri": "https://localhost:8080/"
        },
        "id": "Fo1N4Irds3Ht",
        "outputId": "6ff94325-ea9b-4458-b754-8d07edcf38b0"
      },
      "source": [
        "arr = np.array([[1,2,3,4,5], [6,7,8,9,10]])\n",
        "print('print 3 rd element of 1stdim', arr[0, 3])"
      ],
      "execution_count": 13,
      "outputs": [
        {
          "output_type": "stream",
          "text": [
            "print 3 rd element of 1stdim 4\n"
          ],
          "name": "stdout"
        }
      ]
    },
    {
      "cell_type": "code",
      "metadata": {
        "colab": {
          "base_uri": "https://localhost:8080/"
        },
        "id": "Xp8BvLzbs8Sm",
        "outputId": "e715accc-a3fb-43e9-df68-428669251803"
      },
      "source": [
        "arr = np.array([[7, 4, 8, 1, 9], [5,2,10,3,6]])\n",
        "print('Last element from 2nd dim: ', arr[1, -1])"
      ],
      "execution_count": 21,
      "outputs": [
        {
          "output_type": "stream",
          "text": [
            "Last element from 2nd dim:  6\n"
          ],
          "name": "stdout"
        }
      ]
    },
    {
      "cell_type": "code",
      "metadata": {
        "colab": {
          "base_uri": "https://localhost:8080/"
        },
        "id": "CB-tYQ54s97O",
        "outputId": "7048535b-384d-4358-dfb7-a7778be1c2c8"
      },
      "source": [
        "arr = np.array([7, 4, 8, 1, 9, 2, 5])\n",
        "print(arr[1:5:2])"
      ],
      "execution_count": 18,
      "outputs": [
        {
          "output_type": "stream",
          "text": [
            "[4 1]\n"
          ],
          "name": "stdout"
        }
      ]
    },
    {
      "cell_type": "code",
      "metadata": {
        "colab": {
          "base_uri": "https://localhost:8080/"
        },
        "id": "VIho23lttApN",
        "outputId": "3bfccf68-ca4b-4de1-9e76-1391971477e4"
      },
      "source": [
        "arr = np.array(['bat', 'shoe', 'rope'])\n",
        "print(arr.dtype)"
      ],
      "execution_count": 17,
      "outputs": [
        {
          "output_type": "stream",
          "text": [
            "<U4\n"
          ],
          "name": "stdout"
        }
      ]
    }
  ]
}