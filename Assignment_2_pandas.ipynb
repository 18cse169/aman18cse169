{
  "nbformat": 4,
  "nbformat_minor": 0,
  "metadata": {
    "colab": {
      "name": "Assignment 2 pandas.ipynb",
      "provenance": [],
      "authorship_tag": "ABX9TyObKhZFJzD3Ej0Ixi6akU9W",
      "include_colab_link": true
    },
    "kernelspec": {
      "name": "python3",
      "display_name": "Python 3"
    }
  },
  "cells": [
    {
      "cell_type": "markdown",
      "metadata": {
        "id": "view-in-github",
        "colab_type": "text"
      },
      "source": [
        "<a href=\"https://colab.research.google.com/github/18cse169/aman18cse169/blob/main/Assignment_2_pandas.ipynb\" target=\"_parent\"><img src=\"https://colab.research.google.com/assets/colab-badge.svg\" alt=\"Open In Colab\"/></a>"
      ]
    },
    {
      "cell_type": "code",
      "metadata": {
        "id": "s3Tfbl52uFy1"
      },
      "source": [
        "import pandas as pd"
      ],
      "execution_count": 1,
      "outputs": []
    },
    {
      "cell_type": "code",
      "metadata": {
        "id": "HVfxWJC1uOUs"
      },
      "source": [
        "import numpy as np"
      ],
      "execution_count": 5,
      "outputs": []
    },
    {
      "cell_type": "code",
      "metadata": {
        "colab": {
          "base_uri": "https://localhost:8080/",
          "height": 204
        },
        "id": "DeGeUUjMuStH",
        "outputId": "bbbb533a-d948-4ab3-f9b3-11ab5226653b"
      },
      "source": [
        "data=[6,4,8,2,7]\n",
        "df=pd.DataFrame(data)\n",
        "df"
      ],
      "execution_count": 2,
      "outputs": [
        {
          "output_type": "execute_result",
          "data": {
            "text/html": [
              "<div>\n",
              "<style scoped>\n",
              "    .dataframe tbody tr th:only-of-type {\n",
              "        vertical-align: middle;\n",
              "    }\n",
              "\n",
              "    .dataframe tbody tr th {\n",
              "        vertical-align: top;\n",
              "    }\n",
              "\n",
              "    .dataframe thead th {\n",
              "        text-align: right;\n",
              "    }\n",
              "</style>\n",
              "<table border=\"1\" class=\"dataframe\">\n",
              "  <thead>\n",
              "    <tr style=\"text-align: right;\">\n",
              "      <th></th>\n",
              "      <th>0</th>\n",
              "    </tr>\n",
              "  </thead>\n",
              "  <tbody>\n",
              "    <tr>\n",
              "      <th>0</th>\n",
              "      <td>6</td>\n",
              "    </tr>\n",
              "    <tr>\n",
              "      <th>1</th>\n",
              "      <td>4</td>\n",
              "    </tr>\n",
              "    <tr>\n",
              "      <th>2</th>\n",
              "      <td>8</td>\n",
              "    </tr>\n",
              "    <tr>\n",
              "      <th>3</th>\n",
              "      <td>2</td>\n",
              "    </tr>\n",
              "    <tr>\n",
              "      <th>4</th>\n",
              "      <td>7</td>\n",
              "    </tr>\n",
              "  </tbody>\n",
              "</table>\n",
              "</div>"
            ],
            "text/plain": [
              "   0\n",
              "0  6\n",
              "1  4\n",
              "2  8\n",
              "3  2\n",
              "4  7"
            ]
          },
          "metadata": {
            "tags": []
          },
          "execution_count": 2
        }
      ]
    },
    {
      "cell_type": "code",
      "metadata": {
        "colab": {
          "base_uri": "https://localhost:8080/",
          "height": 142
        },
        "id": "3VkrG9t4uXYs",
        "outputId": "61073e99-61a4-404e-8a86-dd9ea5e9f0fe"
      },
      "source": [
        "data=[['John',14],['Stuart',22],['Max',18]]\n",
        "df=pd.DataFrame(data)\n",
        "df"
      ],
      "execution_count": 3,
      "outputs": [
        {
          "output_type": "execute_result",
          "data": {
            "text/html": [
              "<div>\n",
              "<style scoped>\n",
              "    .dataframe tbody tr th:only-of-type {\n",
              "        vertical-align: middle;\n",
              "    }\n",
              "\n",
              "    .dataframe tbody tr th {\n",
              "        vertical-align: top;\n",
              "    }\n",
              "\n",
              "    .dataframe thead th {\n",
              "        text-align: right;\n",
              "    }\n",
              "</style>\n",
              "<table border=\"1\" class=\"dataframe\">\n",
              "  <thead>\n",
              "    <tr style=\"text-align: right;\">\n",
              "      <th></th>\n",
              "      <th>0</th>\n",
              "      <th>1</th>\n",
              "    </tr>\n",
              "  </thead>\n",
              "  <tbody>\n",
              "    <tr>\n",
              "      <th>0</th>\n",
              "      <td>John</td>\n",
              "      <td>14</td>\n",
              "    </tr>\n",
              "    <tr>\n",
              "      <th>1</th>\n",
              "      <td>Stuart</td>\n",
              "      <td>22</td>\n",
              "    </tr>\n",
              "    <tr>\n",
              "      <th>2</th>\n",
              "      <td>Max</td>\n",
              "      <td>18</td>\n",
              "    </tr>\n",
              "  </tbody>\n",
              "</table>\n",
              "</div>"
            ],
            "text/plain": [
              "        0   1\n",
              "0    John  14\n",
              "1  Stuart  22\n",
              "2     Max  18"
            ]
          },
          "metadata": {
            "tags": []
          },
          "execution_count": 3
        }
      ]
    },
    {
      "cell_type": "code",
      "metadata": {
        "colab": {
          "base_uri": "https://localhost:8080/"
        },
        "id": "2E9eFrNeuatp",
        "outputId": "806ee35e-1b41-4163-baf4-c3f3e1e5e7b0"
      },
      "source": [
        "s = pd.Series([9, 7, 5, np.nan, 4, 2])\n",
        "s"
      ],
      "execution_count": 6,
      "outputs": [
        {
          "output_type": "execute_result",
          "data": {
            "text/plain": [
              "0    9.0\n",
              "1    7.0\n",
              "2    5.0\n",
              "3    NaN\n",
              "4    4.0\n",
              "5    2.0\n",
              "dtype: float64"
            ]
          },
          "metadata": {
            "tags": []
          },
          "execution_count": 6
        }
      ]
    },
    {
      "cell_type": "code",
      "metadata": {
        "colab": {
          "base_uri": "https://localhost:8080/"
        },
        "id": "ZIwq5j3eud9J",
        "outputId": "0daf7e36-b659-4898-9e22-563f1f6759f1"
      },
      "source": [
        "dates = pd.date_range('20031201', periods=4)\n",
        "dates"
      ],
      "execution_count": 8,
      "outputs": [
        {
          "output_type": "execute_result",
          "data": {
            "text/plain": [
              "DatetimeIndex(['2003-12-01', '2003-12-02', '2003-12-03', '2003-12-04'], dtype='datetime64[ns]', freq='D')"
            ]
          },
          "metadata": {
            "tags": []
          },
          "execution_count": 8
        }
      ]
    },
    {
      "cell_type": "code",
      "metadata": {
        "colab": {
          "base_uri": "https://localhost:8080/",
          "height": 173
        },
        "id": "T4OhC3YpugJB",
        "outputId": "9b954c2b-8563-4cf7-a066-687f18558f3e"
      },
      "source": [
        "df = pd.DataFrame(np.random.randn(4, 4), index=dates, columns=list('QWER'))\n",
        "df"
      ],
      "execution_count": 12,
      "outputs": [
        {
          "output_type": "execute_result",
          "data": {
            "text/html": [
              "<div>\n",
              "<style scoped>\n",
              "    .dataframe tbody tr th:only-of-type {\n",
              "        vertical-align: middle;\n",
              "    }\n",
              "\n",
              "    .dataframe tbody tr th {\n",
              "        vertical-align: top;\n",
              "    }\n",
              "\n",
              "    .dataframe thead th {\n",
              "        text-align: right;\n",
              "    }\n",
              "</style>\n",
              "<table border=\"1\" class=\"dataframe\">\n",
              "  <thead>\n",
              "    <tr style=\"text-align: right;\">\n",
              "      <th></th>\n",
              "      <th>Q</th>\n",
              "      <th>W</th>\n",
              "      <th>E</th>\n",
              "      <th>R</th>\n",
              "    </tr>\n",
              "  </thead>\n",
              "  <tbody>\n",
              "    <tr>\n",
              "      <th>2003-12-01</th>\n",
              "      <td>0.104535</td>\n",
              "      <td>0.966132</td>\n",
              "      <td>-0.600014</td>\n",
              "      <td>1.082210</td>\n",
              "    </tr>\n",
              "    <tr>\n",
              "      <th>2003-12-02</th>\n",
              "      <td>-0.439610</td>\n",
              "      <td>-0.768728</td>\n",
              "      <td>1.239604</td>\n",
              "      <td>-0.963182</td>\n",
              "    </tr>\n",
              "    <tr>\n",
              "      <th>2003-12-03</th>\n",
              "      <td>-0.800291</td>\n",
              "      <td>0.389351</td>\n",
              "      <td>0.148718</td>\n",
              "      <td>-0.706651</td>\n",
              "    </tr>\n",
              "    <tr>\n",
              "      <th>2003-12-04</th>\n",
              "      <td>0.419596</td>\n",
              "      <td>-0.434904</td>\n",
              "      <td>0.054481</td>\n",
              "      <td>-0.542935</td>\n",
              "    </tr>\n",
              "  </tbody>\n",
              "</table>\n",
              "</div>"
            ],
            "text/plain": [
              "                   Q         W         E         R\n",
              "2003-12-01  0.104535  0.966132 -0.600014  1.082210\n",
              "2003-12-02 -0.439610 -0.768728  1.239604 -0.963182\n",
              "2003-12-03 -0.800291  0.389351  0.148718 -0.706651\n",
              "2003-12-04  0.419596 -0.434904  0.054481 -0.542935"
            ]
          },
          "metadata": {
            "tags": []
          },
          "execution_count": 12
        }
      ]
    },
    {
      "cell_type": "code",
      "metadata": {
        "colab": {
          "base_uri": "https://localhost:8080/",
          "height": 173
        },
        "id": "cAN8MTThuj4X",
        "outputId": "26919fc2-fdd4-446b-9efc-a7ff759fd243"
      },
      "source": [
        "df2 = pd.DataFrame({'Q': 8.,'W': pd.Timestamp('20031201'),'E': pd.Series(1, index=list(range(4)), dtype='float32'),'R': np.array([3] * 4, dtype='int32'),'E': pd.Categorical([\"RUN\", \"STOP\", \"RUN\", \"STOP\"]),'F': 'Pass'})\n",
        "df2"
      ],
      "execution_count": 14,
      "outputs": [
        {
          "output_type": "execute_result",
          "data": {
            "text/html": [
              "<div>\n",
              "<style scoped>\n",
              "    .dataframe tbody tr th:only-of-type {\n",
              "        vertical-align: middle;\n",
              "    }\n",
              "\n",
              "    .dataframe tbody tr th {\n",
              "        vertical-align: top;\n",
              "    }\n",
              "\n",
              "    .dataframe thead th {\n",
              "        text-align: right;\n",
              "    }\n",
              "</style>\n",
              "<table border=\"1\" class=\"dataframe\">\n",
              "  <thead>\n",
              "    <tr style=\"text-align: right;\">\n",
              "      <th></th>\n",
              "      <th>Q</th>\n",
              "      <th>W</th>\n",
              "      <th>E</th>\n",
              "      <th>R</th>\n",
              "      <th>F</th>\n",
              "    </tr>\n",
              "  </thead>\n",
              "  <tbody>\n",
              "    <tr>\n",
              "      <th>0</th>\n",
              "      <td>8.0</td>\n",
              "      <td>2003-12-01</td>\n",
              "      <td>RUN</td>\n",
              "      <td>3</td>\n",
              "      <td>Pass</td>\n",
              "    </tr>\n",
              "    <tr>\n",
              "      <th>1</th>\n",
              "      <td>8.0</td>\n",
              "      <td>2003-12-01</td>\n",
              "      <td>STOP</td>\n",
              "      <td>3</td>\n",
              "      <td>Pass</td>\n",
              "    </tr>\n",
              "    <tr>\n",
              "      <th>2</th>\n",
              "      <td>8.0</td>\n",
              "      <td>2003-12-01</td>\n",
              "      <td>RUN</td>\n",
              "      <td>3</td>\n",
              "      <td>Pass</td>\n",
              "    </tr>\n",
              "    <tr>\n",
              "      <th>3</th>\n",
              "      <td>8.0</td>\n",
              "      <td>2003-12-01</td>\n",
              "      <td>STOP</td>\n",
              "      <td>3</td>\n",
              "      <td>Pass</td>\n",
              "    </tr>\n",
              "  </tbody>\n",
              "</table>\n",
              "</div>"
            ],
            "text/plain": [
              "     Q          W     E  R     F\n",
              "0  8.0 2003-12-01   RUN  3  Pass\n",
              "1  8.0 2003-12-01  STOP  3  Pass\n",
              "2  8.0 2003-12-01   RUN  3  Pass\n",
              "3  8.0 2003-12-01  STOP  3  Pass"
            ]
          },
          "metadata": {
            "tags": []
          },
          "execution_count": 14
        }
      ]
    },
    {
      "cell_type": "code",
      "metadata": {
        "colab": {
          "base_uri": "https://localhost:8080/",
          "height": 173
        },
        "id": "sWagDRKruniv",
        "outputId": "c2cfd074-b4b9-4304-d671-bc26beee6ce8"
      },
      "source": [
        "df.head()"
      ],
      "execution_count": 15,
      "outputs": [
        {
          "output_type": "execute_result",
          "data": {
            "text/html": [
              "<div>\n",
              "<style scoped>\n",
              "    .dataframe tbody tr th:only-of-type {\n",
              "        vertical-align: middle;\n",
              "    }\n",
              "\n",
              "    .dataframe tbody tr th {\n",
              "        vertical-align: top;\n",
              "    }\n",
              "\n",
              "    .dataframe thead th {\n",
              "        text-align: right;\n",
              "    }\n",
              "</style>\n",
              "<table border=\"1\" class=\"dataframe\">\n",
              "  <thead>\n",
              "    <tr style=\"text-align: right;\">\n",
              "      <th></th>\n",
              "      <th>Q</th>\n",
              "      <th>W</th>\n",
              "      <th>E</th>\n",
              "      <th>R</th>\n",
              "    </tr>\n",
              "  </thead>\n",
              "  <tbody>\n",
              "    <tr>\n",
              "      <th>2003-12-01</th>\n",
              "      <td>0.104535</td>\n",
              "      <td>0.966132</td>\n",
              "      <td>-0.600014</td>\n",
              "      <td>1.082210</td>\n",
              "    </tr>\n",
              "    <tr>\n",
              "      <th>2003-12-02</th>\n",
              "      <td>-0.439610</td>\n",
              "      <td>-0.768728</td>\n",
              "      <td>1.239604</td>\n",
              "      <td>-0.963182</td>\n",
              "    </tr>\n",
              "    <tr>\n",
              "      <th>2003-12-03</th>\n",
              "      <td>-0.800291</td>\n",
              "      <td>0.389351</td>\n",
              "      <td>0.148718</td>\n",
              "      <td>-0.706651</td>\n",
              "    </tr>\n",
              "    <tr>\n",
              "      <th>2003-12-04</th>\n",
              "      <td>0.419596</td>\n",
              "      <td>-0.434904</td>\n",
              "      <td>0.054481</td>\n",
              "      <td>-0.542935</td>\n",
              "    </tr>\n",
              "  </tbody>\n",
              "</table>\n",
              "</div>"
            ],
            "text/plain": [
              "                   Q         W         E         R\n",
              "2003-12-01  0.104535  0.966132 -0.600014  1.082210\n",
              "2003-12-02 -0.439610 -0.768728  1.239604 -0.963182\n",
              "2003-12-03 -0.800291  0.389351  0.148718 -0.706651\n",
              "2003-12-04  0.419596 -0.434904  0.054481 -0.542935"
            ]
          },
          "metadata": {
            "tags": []
          },
          "execution_count": 15
        }
      ]
    },
    {
      "cell_type": "code",
      "metadata": {
        "colab": {
          "base_uri": "https://localhost:8080/",
          "height": 142
        },
        "id": "p-RcKCdaurbc",
        "outputId": "b6adf76e-0d14-4c06-9a37-dfb1cff54a0c"
      },
      "source": [
        "df.tail(3)"
      ],
      "execution_count": 16,
      "outputs": [
        {
          "output_type": "execute_result",
          "data": {
            "text/html": [
              "<div>\n",
              "<style scoped>\n",
              "    .dataframe tbody tr th:only-of-type {\n",
              "        vertical-align: middle;\n",
              "    }\n",
              "\n",
              "    .dataframe tbody tr th {\n",
              "        vertical-align: top;\n",
              "    }\n",
              "\n",
              "    .dataframe thead th {\n",
              "        text-align: right;\n",
              "    }\n",
              "</style>\n",
              "<table border=\"1\" class=\"dataframe\">\n",
              "  <thead>\n",
              "    <tr style=\"text-align: right;\">\n",
              "      <th></th>\n",
              "      <th>Q</th>\n",
              "      <th>W</th>\n",
              "      <th>E</th>\n",
              "      <th>R</th>\n",
              "    </tr>\n",
              "  </thead>\n",
              "  <tbody>\n",
              "    <tr>\n",
              "      <th>2003-12-02</th>\n",
              "      <td>-0.439610</td>\n",
              "      <td>-0.768728</td>\n",
              "      <td>1.239604</td>\n",
              "      <td>-0.963182</td>\n",
              "    </tr>\n",
              "    <tr>\n",
              "      <th>2003-12-03</th>\n",
              "      <td>-0.800291</td>\n",
              "      <td>0.389351</td>\n",
              "      <td>0.148718</td>\n",
              "      <td>-0.706651</td>\n",
              "    </tr>\n",
              "    <tr>\n",
              "      <th>2003-12-04</th>\n",
              "      <td>0.419596</td>\n",
              "      <td>-0.434904</td>\n",
              "      <td>0.054481</td>\n",
              "      <td>-0.542935</td>\n",
              "    </tr>\n",
              "  </tbody>\n",
              "</table>\n",
              "</div>"
            ],
            "text/plain": [
              "                   Q         W         E         R\n",
              "2003-12-02 -0.439610 -0.768728  1.239604 -0.963182\n",
              "2003-12-03 -0.800291  0.389351  0.148718 -0.706651\n",
              "2003-12-04  0.419596 -0.434904  0.054481 -0.542935"
            ]
          },
          "metadata": {
            "tags": []
          },
          "execution_count": 16
        }
      ]
    },
    {
      "cell_type": "code",
      "metadata": {
        "colab": {
          "base_uri": "https://localhost:8080/"
        },
        "id": "AJp-bkJwuunv",
        "outputId": "cc115e9e-964b-447b-ffe4-e5be70b15915"
      },
      "source": [
        "df.index"
      ],
      "execution_count": 17,
      "outputs": [
        {
          "output_type": "execute_result",
          "data": {
            "text/plain": [
              "DatetimeIndex(['2003-12-01', '2003-12-02', '2003-12-03', '2003-12-04'], dtype='datetime64[ns]', freq='D')"
            ]
          },
          "metadata": {
            "tags": []
          },
          "execution_count": 17
        }
      ]
    },
    {
      "cell_type": "code",
      "metadata": {
        "colab": {
          "base_uri": "https://localhost:8080/"
        },
        "id": "h7YW-GxXuyIF",
        "outputId": "8a8e81eb-1b77-48f9-a6eb-c50a637f292b"
      },
      "source": [
        "df.columns"
      ],
      "execution_count": 18,
      "outputs": [
        {
          "output_type": "execute_result",
          "data": {
            "text/plain": [
              "Index(['Q', 'W', 'E', 'R'], dtype='object')"
            ]
          },
          "metadata": {
            "tags": []
          },
          "execution_count": 18
        }
      ]
    },
    {
      "cell_type": "code",
      "metadata": {
        "colab": {
          "base_uri": "https://localhost:8080/"
        },
        "id": "DKIXTFbIu0oi",
        "outputId": "57c61b85-832f-4d29-8455-30d8fb78ad21"
      },
      "source": [
        "df.to_numpy()"
      ],
      "execution_count": 19,
      "outputs": [
        {
          "output_type": "execute_result",
          "data": {
            "text/plain": [
              "array([[ 0.10453541,  0.96613205, -0.6000136 ,  1.08220953],\n",
              "       [-0.43960951, -0.76872846,  1.2396043 , -0.96318188],\n",
              "       [-0.80029135,  0.38935104,  0.14871783, -0.70665052],\n",
              "       [ 0.41959587, -0.43490404,  0.05448139, -0.54293473]])"
            ]
          },
          "metadata": {
            "tags": []
          },
          "execution_count": 19
        }
      ]
    },
    {
      "cell_type": "code",
      "metadata": {
        "colab": {
          "base_uri": "https://localhost:8080/"
        },
        "id": "jI6TyL1Iu2no",
        "outputId": "95679dc9-82c4-4500-b375-129a98dd6aeb"
      },
      "source": [
        "df2.to_numpy()"
      ],
      "execution_count": 20,
      "outputs": [
        {
          "output_type": "execute_result",
          "data": {
            "text/plain": [
              "array([[8.0, Timestamp('2003-12-01 00:00:00'), 'RUN', 3, 'Pass'],\n",
              "       [8.0, Timestamp('2003-12-01 00:00:00'), 'STOP', 3, 'Pass'],\n",
              "       [8.0, Timestamp('2003-12-01 00:00:00'), 'RUN', 3, 'Pass'],\n",
              "       [8.0, Timestamp('2003-12-01 00:00:00'), 'STOP', 3, 'Pass']],\n",
              "      dtype=object)"
            ]
          },
          "metadata": {
            "tags": []
          },
          "execution_count": 20
        }
      ]
    },
    {
      "cell_type": "code",
      "metadata": {
        "colab": {
          "base_uri": "https://localhost:8080/",
          "height": 297
        },
        "id": "bLrtFjZVvGi1",
        "outputId": "7987f245-e34a-4971-ea91-cfa4cebe7cb9"
      },
      "source": [
        "df2.describe()"
      ],
      "execution_count": 21,
      "outputs": [
        {
          "output_type": "execute_result",
          "data": {
            "text/html": [
              "<div>\n",
              "<style scoped>\n",
              "    .dataframe tbody tr th:only-of-type {\n",
              "        vertical-align: middle;\n",
              "    }\n",
              "\n",
              "    .dataframe tbody tr th {\n",
              "        vertical-align: top;\n",
              "    }\n",
              "\n",
              "    .dataframe thead th {\n",
              "        text-align: right;\n",
              "    }\n",
              "</style>\n",
              "<table border=\"1\" class=\"dataframe\">\n",
              "  <thead>\n",
              "    <tr style=\"text-align: right;\">\n",
              "      <th></th>\n",
              "      <th>Q</th>\n",
              "      <th>R</th>\n",
              "    </tr>\n",
              "  </thead>\n",
              "  <tbody>\n",
              "    <tr>\n",
              "      <th>count</th>\n",
              "      <td>4.0</td>\n",
              "      <td>4.0</td>\n",
              "    </tr>\n",
              "    <tr>\n",
              "      <th>mean</th>\n",
              "      <td>8.0</td>\n",
              "      <td>3.0</td>\n",
              "    </tr>\n",
              "    <tr>\n",
              "      <th>std</th>\n",
              "      <td>0.0</td>\n",
              "      <td>0.0</td>\n",
              "    </tr>\n",
              "    <tr>\n",
              "      <th>min</th>\n",
              "      <td>8.0</td>\n",
              "      <td>3.0</td>\n",
              "    </tr>\n",
              "    <tr>\n",
              "      <th>25%</th>\n",
              "      <td>8.0</td>\n",
              "      <td>3.0</td>\n",
              "    </tr>\n",
              "    <tr>\n",
              "      <th>50%</th>\n",
              "      <td>8.0</td>\n",
              "      <td>3.0</td>\n",
              "    </tr>\n",
              "    <tr>\n",
              "      <th>75%</th>\n",
              "      <td>8.0</td>\n",
              "      <td>3.0</td>\n",
              "    </tr>\n",
              "    <tr>\n",
              "      <th>max</th>\n",
              "      <td>8.0</td>\n",
              "      <td>3.0</td>\n",
              "    </tr>\n",
              "  </tbody>\n",
              "</table>\n",
              "</div>"
            ],
            "text/plain": [
              "         Q    R\n",
              "count  4.0  4.0\n",
              "mean   8.0  3.0\n",
              "std    0.0  0.0\n",
              "min    8.0  3.0\n",
              "25%    8.0  3.0\n",
              "50%    8.0  3.0\n",
              "75%    8.0  3.0\n",
              "max    8.0  3.0"
            ]
          },
          "metadata": {
            "tags": []
          },
          "execution_count": 21
        }
      ]
    },
    {
      "cell_type": "code",
      "metadata": {
        "colab": {
          "base_uri": "https://localhost:8080/",
          "height": 297
        },
        "id": "ahYJoMiQvNNI",
        "outputId": "2aab5063-a006-44bb-a9e1-8e68e213b712"
      },
      "source": [
        "df.describe()"
      ],
      "execution_count": 22,
      "outputs": [
        {
          "output_type": "execute_result",
          "data": {
            "text/html": [
              "<div>\n",
              "<style scoped>\n",
              "    .dataframe tbody tr th:only-of-type {\n",
              "        vertical-align: middle;\n",
              "    }\n",
              "\n",
              "    .dataframe tbody tr th {\n",
              "        vertical-align: top;\n",
              "    }\n",
              "\n",
              "    .dataframe thead th {\n",
              "        text-align: right;\n",
              "    }\n",
              "</style>\n",
              "<table border=\"1\" class=\"dataframe\">\n",
              "  <thead>\n",
              "    <tr style=\"text-align: right;\">\n",
              "      <th></th>\n",
              "      <th>Q</th>\n",
              "      <th>W</th>\n",
              "      <th>E</th>\n",
              "      <th>R</th>\n",
              "    </tr>\n",
              "  </thead>\n",
              "  <tbody>\n",
              "    <tr>\n",
              "      <th>count</th>\n",
              "      <td>4.000000</td>\n",
              "      <td>4.000000</td>\n",
              "      <td>4.000000</td>\n",
              "      <td>4.000000</td>\n",
              "    </tr>\n",
              "    <tr>\n",
              "      <th>mean</th>\n",
              "      <td>-0.178942</td>\n",
              "      <td>0.037963</td>\n",
              "      <td>0.210697</td>\n",
              "      <td>-0.282639</td>\n",
              "    </tr>\n",
              "    <tr>\n",
              "      <th>std</th>\n",
              "      <td>0.545475</td>\n",
              "      <td>0.787258</td>\n",
              "      <td>0.762484</td>\n",
              "      <td>0.926191</td>\n",
              "    </tr>\n",
              "    <tr>\n",
              "      <th>min</th>\n",
              "      <td>-0.800291</td>\n",
              "      <td>-0.768728</td>\n",
              "      <td>-0.600014</td>\n",
              "      <td>-0.963182</td>\n",
              "    </tr>\n",
              "    <tr>\n",
              "      <th>25%</th>\n",
              "      <td>-0.529780</td>\n",
              "      <td>-0.518360</td>\n",
              "      <td>-0.109142</td>\n",
              "      <td>-0.770783</td>\n",
              "    </tr>\n",
              "    <tr>\n",
              "      <th>50%</th>\n",
              "      <td>-0.167537</td>\n",
              "      <td>-0.022776</td>\n",
              "      <td>0.101600</td>\n",
              "      <td>-0.624793</td>\n",
              "    </tr>\n",
              "    <tr>\n",
              "      <th>75%</th>\n",
              "      <td>0.183301</td>\n",
              "      <td>0.533546</td>\n",
              "      <td>0.421439</td>\n",
              "      <td>-0.136649</td>\n",
              "    </tr>\n",
              "    <tr>\n",
              "      <th>max</th>\n",
              "      <td>0.419596</td>\n",
              "      <td>0.966132</td>\n",
              "      <td>1.239604</td>\n",
              "      <td>1.082210</td>\n",
              "    </tr>\n",
              "  </tbody>\n",
              "</table>\n",
              "</div>"
            ],
            "text/plain": [
              "              Q         W         E         R\n",
              "count  4.000000  4.000000  4.000000  4.000000\n",
              "mean  -0.178942  0.037963  0.210697 -0.282639\n",
              "std    0.545475  0.787258  0.762484  0.926191\n",
              "min   -0.800291 -0.768728 -0.600014 -0.963182\n",
              "25%   -0.529780 -0.518360 -0.109142 -0.770783\n",
              "50%   -0.167537 -0.022776  0.101600 -0.624793\n",
              "75%    0.183301  0.533546  0.421439 -0.136649\n",
              "max    0.419596  0.966132  1.239604  1.082210"
            ]
          },
          "metadata": {
            "tags": []
          },
          "execution_count": 22
        }
      ]
    },
    {
      "cell_type": "code",
      "metadata": {
        "colab": {
          "base_uri": "https://localhost:8080/",
          "height": 173
        },
        "id": "KG4DIXvDvqWC",
        "outputId": "7b6e9690-71f9-48be-b22b-516649425abc"
      },
      "source": [
        "df.T"
      ],
      "execution_count": 23,
      "outputs": [
        {
          "output_type": "execute_result",
          "data": {
            "text/html": [
              "<div>\n",
              "<style scoped>\n",
              "    .dataframe tbody tr th:only-of-type {\n",
              "        vertical-align: middle;\n",
              "    }\n",
              "\n",
              "    .dataframe tbody tr th {\n",
              "        vertical-align: top;\n",
              "    }\n",
              "\n",
              "    .dataframe thead th {\n",
              "        text-align: right;\n",
              "    }\n",
              "</style>\n",
              "<table border=\"1\" class=\"dataframe\">\n",
              "  <thead>\n",
              "    <tr style=\"text-align: right;\">\n",
              "      <th></th>\n",
              "      <th>2003-12-01</th>\n",
              "      <th>2003-12-02</th>\n",
              "      <th>2003-12-03</th>\n",
              "      <th>2003-12-04</th>\n",
              "    </tr>\n",
              "  </thead>\n",
              "  <tbody>\n",
              "    <tr>\n",
              "      <th>Q</th>\n",
              "      <td>0.104535</td>\n",
              "      <td>-0.439610</td>\n",
              "      <td>-0.800291</td>\n",
              "      <td>0.419596</td>\n",
              "    </tr>\n",
              "    <tr>\n",
              "      <th>W</th>\n",
              "      <td>0.966132</td>\n",
              "      <td>-0.768728</td>\n",
              "      <td>0.389351</td>\n",
              "      <td>-0.434904</td>\n",
              "    </tr>\n",
              "    <tr>\n",
              "      <th>E</th>\n",
              "      <td>-0.600014</td>\n",
              "      <td>1.239604</td>\n",
              "      <td>0.148718</td>\n",
              "      <td>0.054481</td>\n",
              "    </tr>\n",
              "    <tr>\n",
              "      <th>R</th>\n",
              "      <td>1.082210</td>\n",
              "      <td>-0.963182</td>\n",
              "      <td>-0.706651</td>\n",
              "      <td>-0.542935</td>\n",
              "    </tr>\n",
              "  </tbody>\n",
              "</table>\n",
              "</div>"
            ],
            "text/plain": [
              "   2003-12-01  2003-12-02  2003-12-03  2003-12-04\n",
              "Q    0.104535   -0.439610   -0.800291    0.419596\n",
              "W    0.966132   -0.768728    0.389351   -0.434904\n",
              "E   -0.600014    1.239604    0.148718    0.054481\n",
              "R    1.082210   -0.963182   -0.706651   -0.542935"
            ]
          },
          "metadata": {
            "tags": []
          },
          "execution_count": 23
        }
      ]
    }
  ]
}